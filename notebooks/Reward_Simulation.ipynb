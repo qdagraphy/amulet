{
 "cells": [
  {
   "cell_type": "markdown",
   "metadata": {},
   "source": [
    "## Open Sourced Under Version 2 Of The Apache License"
   ]
  },
  {
   "cell_type": "code",
   "execution_count": null,
   "metadata": {},
   "outputs": [],
   "source": [
    "from collections import defaultdict, deque\n",
    "from random import randint, random\n",
    "from operator import itemgetter\n",
    "from uuid import uuid4\n",
    "from math import floor"
   ]
  },
  {
   "cell_type": "markdown",
   "metadata": {},
   "source": [
    "## Monte-Carlo Simulation Of Amulet Platform's Reward Function\n",
    "\n",
    "Uses market experts with a high probability of a correct response, experts which guess randomly every time, and experts with a low probability of a correct response. Also uses random stakes, and randomizes choice of answers for both the expert types who have high probability of success and for the expert types who have low probability of success.\n",
    "\n",
    "Authored By Horia Margarit On 2018-04-20\n",
    "\n",
    "### Simple And Exponential Moving Averages Both Extend The Same Abstract Class"
   ]
  },
  {
   "cell_type": "code",
   "execution_count": null,
   "metadata": {},
   "outputs": [],
   "source": [
    "class MovingAverage(object):\n",
    "    def __init__(self, *args, **kwargs):\n",
    "        self._curr = 0.0\n",
    "        super(MovingAverage, self).__init__()\n",
    "    \n",
    "    def __call__(self, *args, **kwargs):\n",
    "        prev = self._curr\n",
    "        self._update_curr(*args, **kwargs)\n",
    "        return prev, self._curr\n",
    "    \n",
    "    def _update_curr(self, *args, **kwargs):\n",
    "        raise NotImplementedError('MovingAverage abstract class cannot implement specific algorithm!')"
   ]
  },
  {
   "cell_type": "code",
   "execution_count": null,
   "metadata": {},
   "outputs": [],
   "source": [
    "class SMA(MovingAverage):\n",
    "    def __init__(self, *args, **kwargs):\n",
    "        m = int(args[0])\n",
    "        self._n = float(m)\n",
    "        self._vals = deque([0.0]*m)\n",
    "        super(SMA, self).__init__(*args, **kwargs)\n",
    "    \n",
    "    def _update_curr(self, *args, **kwargs):\n",
    "        _ = self._vals.popleft()\n",
    "        self._vals.append(float(args[0]))\n",
    "        self._curr = sum(self._vals) / self._n"
   ]
  },
  {
   "cell_type": "code",
   "execution_count": null,
   "metadata": {},
   "outputs": [],
   "source": [
    "class EMA(MovingAverage):\n",
    "    def __init__(self, *args, **kwargs):\n",
    "        self._a = float(args[0])\n",
    "        self._b = 1.0 - self._a\n",
    "        super(EMA, self).__init__(*args, **kwargs)\n",
    "    \n",
    "    def _update_curr(self, *args, **kwargs):\n",
    "        self._curr *= self._b\n",
    "        self._curr += self._a * float(args[0])"
   ]
  },
  {
   "cell_type": "markdown",
   "metadata": {},
   "source": [
    "### Reputation Manager Is A Quasi-meta Class Which Bookkeeps The Reputation Of Individual Experts"
   ]
  },
  {
   "cell_type": "code",
   "execution_count": null,
   "metadata": {},
   "outputs": [],
   "source": [
    "class ReputationManager(object):\n",
    "    def __init__(self, *args, **kwargs):\n",
    "        window = int(kwargs.pop('window', 5))\n",
    "        alpha = float(kwargs.pop('alpha', 0.2))\n",
    "        if bool(kwargs.pop('ema', False)):\n",
    "            self._rhos = defaultdict(lambda: EMA(alpha))\n",
    "        else:\n",
    "            self._rhos = defaultdict(lambda: SMA(window))\n",
    "        super(ReputationManager, self).__init__()\n",
    "    \n",
    "    def __call__(self, *args, **kwargs):\n",
    "        e_id, correct, value = args\n",
    "        prev, _ = self._rhos[e_id](correct)\n",
    "        return prev"
   ]
  },
  {
   "cell_type": "markdown",
   "metadata": {},
   "source": [
    "### Requests For Proposal Are Constructed By The RFP Builder For Quick Iterative Use\n",
    "\n",
    "RFP Builder takes as input the max entires, the max value, and the class for the reputation management, as well as parameters for said class. It instatiates to a callable object. Upon each call, said object constructs and returns a new RFP."
   ]
  },
  {
   "cell_type": "code",
   "execution_count": null,
   "metadata": {},
   "outputs": [],
   "source": [
    "class RfpBuilder(object):\n",
    "    def __init__(self, *args, **kwargs):\n",
    "        self._max_entries = int(args[0])\n",
    "        self._max_value   = int(args[1])\n",
    "        self._oracle      = args[2](**kwargs)\n",
    "        super(RfpBuilder, self).__init__()\n",
    "    \n",
    "    def __call__(self, *args, **kwargs):\n",
    "        n = randint(2, self._max_entries)\n",
    "        v = randint(1, self._max_value)\n",
    "        a = int(floor(n / 2.0))\n",
    "        return RFP(self._oracle, n, v, a)"
   ]
  },
  {
   "cell_type": "markdown",
   "metadata": {},
   "source": [
    "### Requests For Proposal Are Implemented As An Object Which Also Computes Alphas Of Reward Function\n",
    "\n",
    "RFP is constructed only by RFP Builder and results in a callable object. Upon calling said object, it stores necessary information to compute alphas. Caveat: all calls that will ever occur must complete **before** calling the method *compute_alphas*. Otherwise the computation will be meaningless and wrong."
   ]
  },
  {
   "cell_type": "code",
   "execution_count": null,
   "metadata": {},
   "outputs": [],
   "source": [
    "class RFP(object):\n",
    "    def __init__(self, *args, **kwargs):\n",
    "        self._phis = defaultdict(lambda: 0.0)\n",
    "        self._n, self._v, self._a = map(int, args[1:4])\n",
    "        self._prob_rand_guess_correct = 1.0 / self._n\n",
    "        self._oracle = args[0] if isinstance(args[0], ReputationManager) else None\n",
    "        super(RFP, self).__init__()\n",
    "    \n",
    "    def __call__(self, *args, **kwargs):\n",
    "        e_id, ans = args\n",
    "        if ans >= 0: # expert posted stake and responded\n",
    "            correct = ans == self._a\n",
    "            rho = self._oracle(e_id, correct, self._v)\n",
    "        else:\n",
    "            correct = False\n",
    "            rho = 0.0\n",
    "        if correct:\n",
    "            self._phis[e_id] = rho - self._prob_rand_guess_correct\n",
    "        else:\n",
    "            self._phis[e_id] = 0.0\n",
    "    \n",
    "    @property\n",
    "    def num_entries(self):\n",
    "        return self._n\n",
    "    \n",
    "    @property\n",
    "    def value(self):\n",
    "        return self._v\n",
    "    \n",
    "    def compute_alphas(self, *args, **kwargs):\n",
    "        rs = 0.0\n",
    "        for k, v in self._phis.items():\n",
    "            self._phis[k] = max(0.0, v)\n",
    "            rs += self._phis[k]\n",
    "        alphas = defaultdict(lambda: 0.0)\n",
    "        for k, v in self._phis.items():\n",
    "            alphas[k] = v / rs if rs != 0.0 else 0.0\n",
    "            self._phis[k] = 0.0\n",
    "        return sorted(alphas.items(), key=itemgetter(0))"
   ]
  },
  {
   "cell_type": "markdown",
   "metadata": {},
   "source": [
    "### Randomly Guessing Experts And Low And High Performing Experts Extend The Expert Abstract Class\n",
    "\n",
    "They all extend the Expert class, which instantiates to a callable object. Said object is not called with an RFP object, as that would reveal the answer and enable the expert to change the alphas for the reward function. Instead it takes three arguments: the number of choices for the RFP, the value of the RFP (this is the amount bid by investors), and the stake required of the expert to pay to respond.\n",
    "\n",
    "All expert types must be instatiated with payout odds and with a personal budget. Payout odds determine the maximum stake an expert is willing to post as the ratio of the value of the RFP divided by the payout odds. Eg., investor bid for an RFP of 14 with payout odds of 7 means that the expert is willing to post a stake up to but no more than 2."
   ]
  },
  {
   "cell_type": "code",
   "execution_count": null,
   "metadata": {},
   "outputs": [],
   "source": [
    "class Expert(object):\n",
    "    def __init__(self, *args, **kwargs):\n",
    "        self._payout_odds = float(args[0])\n",
    "        self._personal_budget = float(args[1])\n",
    "        self._id = int(kwargs.pop('id', uuid4().int))\n",
    "        super(Expert, self).__init__()\n",
    "    \n",
    "    def __call__(self, *args, **kwargs):\n",
    "        n, v, s = args\n",
    "        if self._will_respond(v, s):\n",
    "            self._personal_budget -= s\n",
    "            a = self._my_response(n, v, s)\n",
    "        else:\n",
    "            a = -1\n",
    "        return self._id, a\n",
    "    \n",
    "    def _will_respond(self, *args, **kwargs):\n",
    "        v, s = args\n",
    "        can_respond  = s <= self._personal_budget\n",
    "        can_respond &= s <= v / self._payout_odds\n",
    "        return can_respond\n",
    "    \n",
    "    def _my_response(self, *args, **kwargs):\n",
    "        raise NotImplementedError('Expert abstract class cannot implement any response strategies!')"
   ]
  },
  {
   "cell_type": "code",
   "execution_count": null,
   "metadata": {},
   "outputs": [],
   "source": [
    "class HighPerformanceExpert(Expert):\n",
    "    def __init__(self, *args, **kwargs):\n",
    "        self._eps = 1e-3\n",
    "        super(HighPerformanceExpert, self).__init__(*args, **kwargs)\n",
    "    \n",
    "    def _my_response(self, *args, **kwargs):\n",
    "        n, v, s = args\n",
    "        p_wrong = 1.0 / n - self._eps\n",
    "        p_right = 1.0 - p_wrong\n",
    "        a = int(floor(n / 2.0))\n",
    "        r = random()\n",
    "        if r < p_right:\n",
    "            # with probability p_right, return a\n",
    "            ans = a\n",
    "        else:\n",
    "            # with probability p_wrong, choose either the answer before or after uniformly at random\n",
    "            split = p_wrong / 2\n",
    "            ans = a-1 if r < (p_right + split) else a+1\n",
    "        return ans"
   ]
  },
  {
   "cell_type": "code",
   "execution_count": null,
   "metadata": {},
   "outputs": [],
   "source": [
    "class RandomChoiceExpert(Expert):\n",
    "    def __init__(self, *args, **kwargs):\n",
    "        super(RandomChoiceExpert, self).__init__(*args, **kwargs)\n",
    "    \n",
    "    def _my_response(self, *args, **kwargs):\n",
    "        n, v, s = args\n",
    "        ans = randint(0, n)\n",
    "        return ans"
   ]
  },
  {
   "cell_type": "code",
   "execution_count": null,
   "metadata": {},
   "outputs": [],
   "source": [
    "class LowPerformanceExpert(Expert):\n",
    "    def __init__(self, *args, **kwargs):\n",
    "        self._eps = 1e-3\n",
    "        super(LowPerformanceExpert, self).__init__(*args, **kwargs)\n",
    "    \n",
    "    def _my_response(self, *args, **kwargs):\n",
    "        n, v, s = args\n",
    "        p_right = 1.0 / n - self._eps\n",
    "        p_wrong = 1.0 - p_right\n",
    "        a = int(floor(n / 2.0))\n",
    "        r = random()\n",
    "        if r < p_right:\n",
    "            # with probability p_right, return a\n",
    "            ans = a\n",
    "        else:\n",
    "            # with probability p_wrong, choose either the answer before or after uniformly at random\n",
    "            split = p_wrong / 2\n",
    "            ans = a-1 if r < (p_right + split) else a+1\n",
    "        return ans"
   ]
  },
  {
   "cell_type": "markdown",
   "metadata": {},
   "source": [
    "### Proctor Collects The Input To The Payout Pot For Each RFP Then Asks The Experts If They Wish To Respond"
   ]
  },
  {
   "cell_type": "code",
   "execution_count": null,
   "metadata": {},
   "outputs": [],
   "source": [
    "# build RFPs with a max choice number of 20 and a max value of 1000\n",
    "# using a reputation manager which tracks reputation by simple moving average of window size 10\n",
    "rfp_builder = RfpBuilder(20, 1000, ReputationManager, ema=False, window=60)\n",
    "# rfp_builder = RfpBuilder(20, 1000, ReputationManager, ema=True, alpha=0.05)\n",
    "\n",
    "# create 101 requests for prediction with a random stake from 2 to 11\n",
    "n_rfps = 101\n",
    "rfp_s = tuple(rfp_builder() for _ in range(n_rfps))\n",
    "stakes = tuple(randint(2, 11) for _ in range(n_rfps))\n",
    "\n",
    "# initialize 1000 random choice experts with payout odds of 7 and with initial budgets of 100\n",
    "num_exp = 1000\n",
    "payout_odds = [7]*num_exp\n",
    "expert_budgets = [100]*num_exp\n",
    "rand_experts = dict((j+1, RandomChoiceExpert(payout_odds[j], expert_budgets[j], id=j+1))\n",
    "                    for j in range(num_exp))\n",
    "\n",
    "# initialize 1000 high performance experts with same payout odds and same initial budgets as random choice experts\n",
    "high_experts = dict((num_exp+j+1, HighPerformanceExpert(payout_odds[j], expert_budgets[j], id=num_exp+j+1))\n",
    "                    for j in range(num_exp))\n",
    "\n",
    "# initialize 1000 high performance experts with same payout odds and same initial budgets as random choice experts\n",
    "low_experts = dict((2*num_exp+j+1, LowPerformanceExpert(payout_odds[j], expert_budgets[j], id=2*num_exp+j+1))\n",
    "                   for j in range(num_exp))\n",
    "\n",
    "# separately store the pot sizes so they can be incremented by posted stakes of responding experts\n",
    "pot_sizes = list(rfp.value for rfp in rfp_s)\n",
    "\n",
    "# store alphas / payout ratios and store expected budgets after simulating responses to each RFP\n",
    "payout_ratios, expected_budgets = list(), ([], [], [])\n",
    "num_exp = float(num_exp)\n",
    "\n",
    "# simulation run: for each RFP, consecutively ask the experts to respond to the prediction request\n",
    "for j, rfp in enumerate(rfp_s):\n",
    "    n, v, s = rfp.num_entries, rfp.value, stakes[j]\n",
    "    for expert in high_experts.values():\n",
    "        e_id, a = expert(n, v, s)\n",
    "        rfp(e_id, a)\n",
    "        if a >= 0: # expert responded with something so increment pot by posted stake\n",
    "            pot_sizes[j] += s\n",
    "    for expert in rand_experts.values():\n",
    "        e_id, a = expert(n, v, s)\n",
    "        rfp(e_id, a)\n",
    "        if a >= 0: # expert responded with something so increment pot by posted stake\n",
    "            pot_sizes[j] += s\n",
    "    for expert in low_experts.values():\n",
    "        e_id, a = expert(n, v, s)\n",
    "        rfp(e_id, a)\n",
    "        if a >= 0: # expert responded with something so increment pot by posted stake\n",
    "            pot_sizes[j] += s\n",
    "    # only compute payout ratios / alphas after all experts have responded to a particular RFP\n",
    "    payout_ratios.append(rfp.compute_alphas())\n",
    "    # update budget of all experts after RFP has been responded to by everyone\n",
    "    for e_id, alpha in payout_ratios[-1]:\n",
    "        if e_id in high_experts:\n",
    "            high_experts[e_id]._personal_budget += alpha * pot_sizes[j]\n",
    "        elif e_id in low_experts:\n",
    "            low_experts[e_id]._personal_budget += alpha * pot_sizes[j]\n",
    "        else:\n",
    "            rand_experts[e_id]._personal_budget += alpha * pot_sizes[j]\n",
    "    # after each RFP of random guessting, print the estimated expected budget of random choice experts\n",
    "    rs = sum(expert._personal_budget for expert in high_experts.values())\n",
    "    expected_budgets[0].append(rs / num_exp)\n",
    "    rs = sum(expert._personal_budget for expert in rand_experts.values())\n",
    "    expected_budgets[1].append(rs / num_exp)\n",
    "    rs = sum(expert._personal_budget for expert in low_experts.values())\n",
    "    expected_budgets[2].append(rs / num_exp)\n",
    "\n",
    "# for now, avoid plots, and instead print the expected budgets\n",
    "for h, r, l in zip(*expected_budgets):\n",
    "    print(\"high probability expert: %.6f\\trandom guessing expert: %.6f\\tlow probability expert: %.6f\" % (h, r, l))"
   ]
  }
 ],
 "metadata": {
  "kernelspec": {
   "display_name": "Python 3",
   "language": "python",
   "name": "python3"
  },
  "language_info": {
   "codemirror_mode": {
    "name": "ipython",
    "version": 3
   },
   "file_extension": ".py",
   "mimetype": "text/x-python",
   "name": "python",
   "nbconvert_exporter": "python",
   "pygments_lexer": "ipython3",
   "version": "3.6.4"
  }
 },
 "nbformat": 4,
 "nbformat_minor": 2
}
